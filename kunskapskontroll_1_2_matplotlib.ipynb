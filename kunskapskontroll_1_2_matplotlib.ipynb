{
 "cells": [
  {
   "cell_type": "markdown",
   "id": "eb49a753",
   "metadata": {},
   "source": [
    "# Matplotlib\n",
    "Read the tutorials: \"Basic Usage\" and \"Pyplot Tutorial\" in the link: https://matplotlib.org/stable/tutorials/index.html before solving the exercises below. The \"Pyplot Tutorial\" you do not read in detail but it is good to know about since the fact that there are two approaches to plotting can be confusing if you are not aware of both of the approaches."
   ]
  },
  {
   "cell_type": "code",
   "execution_count": null,
   "id": "9b1ffb1b",
   "metadata": {},
   "outputs": [],
   "source": [
    "import numpy as np\n",
    "import matplotlib.pyplot as plt"
   ]
  },
  {
   "cell_type": "markdown",
   "id": "35e4f6cd",
   "metadata": {},
   "source": [
    "### Plotting in Matplotlib can be done in either of two ways, which ones? Which way is the recommended approach?"
   ]
  },
  {
   "cell_type": "code",
   "execution_count": null,
   "id": "2db0fb3e",
   "metadata": {},
   "outputs": [],
   "source": [
    "x = np.linspace(-5, 5, 50)\n",
    "y = x**2\n",
    "\n",
    "figure, ax = plt.subplots()  # recommended approach - Object oriented method\n",
    "ax.plot(x, y)"
   ]
  },
  {
   "cell_type": "code",
   "execution_count": null,
   "id": "7b92e67f",
   "metadata": {},
   "outputs": [],
   "source": [
    "plt.plot(x, y)  # pyplot method"
   ]
  },
  {
   "cell_type": "markdown",
   "id": "00d119a1",
   "metadata": {},
   "source": [
    "### Explain shortly what a figure, axes, axis and an artist is in Matplotlib."
   ]
  },
  {
   "cell_type": "markdown",
   "id": "721c8c56",
   "metadata": {},
   "source": [
    "Figure - The whole empty background or canvas is called Figure.\n",
    "Axes - The part of the \"canvas\" that the plot is attached on. We call methods that do the plotting directly from the Axes which gives high flexibility in customizing our plots.\n",
    "Axis - Sets the scale and limits and generate ticks (the marks on the Axis) and ticklabels (strings labeling the ticks).\n",
    "Artist - Basically everything visible on the figure is an artist, including figure, axes and axis. Most Artists are tied to an Axes."
   ]
  },
  {
   "cell_type": "markdown",
   "id": "986b324c",
   "metadata": {},
   "source": [
    "### When plotting in Matplotlib, what is the expected input data type?"
   ]
  },
  {
   "cell_type": "markdown",
   "id": "cb002c0c",
   "metadata": {},
   "source": [
    "numpy.array"
   ]
  },
  {
   "cell_type": "markdown",
   "id": "8ff546a1",
   "metadata": {},
   "source": [
    "### Create a plot of the function y = x^2 [from -4 to 4, hint use the np.linspace function] both in the object-oriented approach and the pyplot approach. Your plot should have a title and axis-labels."
   ]
  },
  {
   "cell_type": "code",
   "execution_count": null,
   "id": "738b8a75",
   "metadata": {},
   "outputs": [],
   "source": [
    "x = np.linspace(-4, 4, 50)\n",
    "y = x**2\n",
    "\n",
    "figure, ax = plt.subplots()  # object-oriented approach\n",
    "ax.plot(x, y)\n",
    "ax.set_xlabel('X axis', size = 15)\n",
    "ax.set_ylabel('Y axis', size = 15)\n",
    "ax.set_title('Parabola', size = 15)\n"
   ]
  },
  {
   "cell_type": "code",
   "execution_count": null,
   "id": "180e6322",
   "metadata": {},
   "outputs": [],
   "source": [
    "plt.plot(x, y)  # pyplot approach\n",
    "plt.xlabel('X axis', size = 15)\n",
    "plt.ylabel('Y axis', size = 15)\n",
    "plt.title('Parabola', size = 15)"
   ]
  },
  {
   "cell_type": "markdown",
   "id": "f6313412",
   "metadata": {},
   "source": [
    "### Create a figure containing 2  subplots where the first is a scatter plot and the second is a bar plot. You have the data below. "
   ]
  },
  {
   "cell_type": "code",
   "execution_count": null,
   "id": "81b6723d",
   "metadata": {},
   "outputs": [],
   "source": [
    "# Data for scatter plot\n",
    "np.random.seed(15)\n",
    "random_data_x = np.random.randn(1000)\n",
    "random_data_y = np.random.randn(1000)\n",
    "x = np.linspace(-2, 2, 100)\n",
    "y = x**2\n",
    "\n",
    "# Data for bar plot\n",
    "fruit_data = {'grapes': 22, 'apple': 8, 'orange': 15, 'lemon': 20, 'lime': 25}\n",
    "names = list(fruit_data.keys())\n",
    "values = list(fruit_data.values())"
   ]
  },
  {
   "cell_type": "code",
   "execution_count": null,
   "id": "b84f15d0",
   "metadata": {},
   "outputs": [],
   "source": [
    "figure, axs = plt.subplots(1, 2, figsize=(15, 8))\n",
    "figure.suptitle('Two Plots', size = 30)\n",
    "\n",
    "axs[0].scatter(x, y)\n",
    "axs[0].set_title('Parabola', size = 15)\n",
    "\n",
    "#axs[0].scatter(random_data_x, random_data_y)\n",
    "#axs[0].set_title('random points')\n",
    "\n",
    "axs[1].bar(names, values)\n",
    "axs[1].set_title('Quantity report', size = 15)"
   ]
  },
  {
   "cell_type": "code",
   "execution_count": null,
   "id": "392e4b85",
   "metadata": {},
   "outputs": [],
   "source": []
  }
 ],
 "metadata": {
  "kernelspec": {
   "display_name": "Python 3 (ipykernel)",
   "language": "python",
   "name": "python3"
  },
  "language_info": {
   "codemirror_mode": {
    "name": "ipython",
    "version": 3
   },
   "file_extension": ".py",
   "mimetype": "text/x-python",
   "name": "python",
   "nbconvert_exporter": "python",
   "pygments_lexer": "ipython3",
   "version": "3.9.12"
  }
 },
 "nbformat": 4,
 "nbformat_minor": 5
}
